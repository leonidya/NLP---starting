{
 "cells": [
  {
   "cell_type": "markdown",
   "metadata": {},
   "source": [
    "# Bag of Words"
   ]
  },
  {
   "cell_type": "code",
   "execution_count": 1,
   "metadata": {
    "ExecuteTime": {
     "end_time": "2022-10-22T13:23:16.731087Z",
     "start_time": "2022-10-22T13:23:16.714567Z"
    }
   },
   "outputs": [
    {
     "name": "stdout",
     "output_type": "stream",
     "text": [
      "How many roads must a man walk down Before you call him a man? Yes, and how many seas must a white dove sail Before she sleeps in the sand? Yes, and how many times must the cannonballs fly Before they're forever banned? The answer, my friend, is blowing in the wind The answer is blowing in the wind\n"
     ]
    }
   ],
   "source": [
    "text = \"How many roads must a man walk down Before you call him a man? Yes, and how many seas must a white dove sail Before she sleeps in the sand? Yes, and how many times must the cannonballs fly Before they're forever banned? The answer, my friend, is blowing in the wind The answer is blowing in the wind\"\n",
    "print(text)"
   ]
  },
  {
   "cell_type": "markdown",
   "metadata": {},
   "source": [
    "## Clean up text"
   ]
  },
  {
   "cell_type": "markdown",
   "metadata": {},
   "source": [
    "### De-capitalize\n",
    "lower case transform: make sure that capitalization won't be interpreted as a different word. "
   ]
  },
  {
   "cell_type": "code",
   "execution_count": 2,
   "metadata": {
    "ExecuteTime": {
     "end_time": "2022-10-22T13:23:16.746451Z",
     "start_time": "2022-10-22T13:23:16.734249Z"
    }
   },
   "outputs": [],
   "source": [
    "text = text.lower() "
   ]
  },
  {
   "cell_type": "markdown",
   "metadata": {},
   "source": [
    "### Remove punctuation: option 1"
   ]
  },
  {
   "cell_type": "code",
   "execution_count": 7,
   "metadata": {
    "ExecuteTime": {
     "end_time": "2022-10-22T13:23:16.761972Z",
     "start_time": "2022-10-22T13:23:16.749421Z"
    }
   },
   "outputs": [
    {
     "name": "stdout",
     "output_type": "stream",
     "text": [
      "how many roads must a man walk down before you call him a man yes and how many seas must a white dove sail before she sleeps in the sand yes and how many times must the cannonballs fly before they're forever banned the answer my friend is blowing in the wind the answer is blowing in the wind\n"
     ]
    }
   ],
   "source": [
    "clean_text = ''.join([c for c in text if c not in \"?,.\"])\n",
    "print(clean_text)"
   ]
  },
  {
   "cell_type": "markdown",
   "metadata": {
    "ExecuteTime": {
     "end_time": "2021-03-08T08:37:01.231535Z",
     "start_time": "2021-03-08T08:37:01.225966Z"
    }
   },
   "source": [
    "### Remove punctuation: option 2 - string.punctuation\n",
    "- use <code>string.punctuation</code>\n",
    "- note that <code>string.punctuation</code> is a <code>string</code>. transform  it to <code>set</code> for faster lookup!"
   ]
  },
  {
   "cell_type": "code",
   "execution_count": 8,
   "metadata": {
    "ExecuteTime": {
     "end_time": "2022-10-22T13:23:16.793265Z",
     "start_time": "2022-10-22T13:23:16.766904Z"
    }
   },
   "outputs": [
    {
     "data": {
      "text/plain": [
       "'!\"#$%&\\'()*+,-./:;<=>?@[\\\\]^_`{|}~'"
      ]
     },
     "execution_count": 8,
     "metadata": {},
     "output_type": "execute_result"
    }
   ],
   "source": [
    "import string\n",
    "string.punctuation"
   ]
  },
  {
   "cell_type": "code",
   "execution_count": 9,
   "metadata": {
    "ExecuteTime": {
     "end_time": "2022-10-22T13:23:16.809297Z",
     "start_time": "2022-10-22T13:23:16.798773Z"
    },
    "scrolled": true
   },
   "outputs": [
    {
     "name": "stdout",
     "output_type": "stream",
     "text": [
      "punctuation: !\"#$%&'()*+,-./:;<=>?@[\\]^_`{|}~. type: <class 'str'>\n",
      "how many roads must a man walk down before you call him a man yes and how many seas must a white dove sail before she sleeps in the sand yes and how many times must the cannonballs fly before theyre forever banned the answer my friend is blowing in the wind the answer is blowing in the wind\n"
     ]
    }
   ],
   "source": [
    "import string\n",
    "print(f\"punctuation: {string.punctuation}. type: {type(string.punctuation)}\")\n",
    "clean_text = ''.join([c for c in text if c not in string.punctuation]) # note that it's faster to transform \n",
    "print(clean_text)"
   ]
  },
  {
   "cell_type": "markdown",
   "metadata": {},
   "source": [
    "### Remove punctuation: option 3 - string.translate\n",
    "- use <code>string.translate</code> and <code>str.maketrans('', '', string.punctuation)</code>\n",
    "- <code>string.translate</code> is implemented in C. It creates a lookup table for replacing chars - very efficient especially for large text.\n",
    "- <code>str.maketrans</code> creates a mapping table used by <code>string.translate</code> to replace character by character. \n",
    "\n",
    "<code>str.maketrans</code> can receive: \n",
    "- option 1: a dictionary mapping char 2 char (key - value)\n",
    "- option 2: two strings (equal length)\n",
    "- option 3: (if 3 arguments are passed) each char in the string is translated to None."
   ]
  },
  {
   "cell_type": "code",
   "execution_count": 10,
   "metadata": {
    "ExecuteTime": {
     "end_time": "2022-10-22T13:23:16.825199Z",
     "start_time": "2022-10-22T13:23:16.816106Z"
    }
   },
   "outputs": [
    {
     "name": "stdout",
     "output_type": "stream",
     "text": [
      "punctuation: !\"#$%&'()*+,-./:;<=>?@[\\]^_`{|}~\n",
      "how many roads must a man walk down before you call him a man yes and how many seas must a white dove sail before she sleeps in the sand yes and how many times must the cannonballs fly before theyre forever banned the answer my friend is blowing in the wind the answer is blowing in the wind\n"
     ]
    }
   ],
   "source": [
    "import string\n",
    "print(f\"punctuation: {string.punctuation}\")\n",
    "clean_text = text.translate(str.maketrans('', '', string.punctuation))\n",
    "print(clean_text)"
   ]
  },
  {
   "cell_type": "code",
   "execution_count": 11,
   "metadata": {
    "ExecuteTime": {
     "end_time": "2022-10-22T13:23:16.840311Z",
     "start_time": "2022-10-22T13:23:16.828707Z"
    }
   },
   "outputs": [
    {
     "name": "stdout",
     "output_type": "stream",
     "text": [
      "how many roads must a man walk down before you call him a man yes and how many seas must a white dove sail before she sleeps in the sand yes and how many times must the cannonballs fly before theyre forever banned the answer my friend is blowing in the wind the answer is blowing in the wind\n"
     ]
    }
   ],
   "source": [
    "import string\n",
    "clean_text = text.translate(text.maketrans(dict({(c, None) for c in string.punctuation})))\n",
    "print(clean_text)"
   ]
  },
  {
   "cell_type": "markdown",
   "metadata": {},
   "source": [
    "## Text tokenization"
   ]
  },
  {
   "cell_type": "code",
   "execution_count": 12,
   "metadata": {
    "ExecuteTime": {
     "end_time": "2022-10-22T13:23:16.856068Z",
     "start_time": "2022-10-22T13:23:16.844361Z"
    }
   },
   "outputs": [
    {
     "name": "stdout",
     "output_type": "stream",
     "text": [
      "['how', 'many', 'roads', 'must', 'a', 'man', 'walk', 'down', 'before', 'you', 'call', 'him', 'a', 'man', 'yes', 'and', 'how', 'many', 'seas', 'must', 'a', 'white', 'dove', 'sail', 'before', 'she', 'sleeps', 'in', 'the', 'sand', 'yes', 'and', 'how', 'many', 'times', 'must', 'the', 'cannonballs', 'fly', 'before', 'theyre', 'forever', 'banned', 'the', 'answer', 'my', 'friend', 'is', 'blowing', 'in', 'the', 'wind', 'the', 'answer', 'is', 'blowing', 'in', 'the', 'wind']\n"
     ]
    }
   ],
   "source": [
    "words = clean_text.split()\n",
    "print(words)"
   ]
  },
  {
   "cell_type": "markdown",
   "metadata": {
    "ExecuteTime": {
     "end_time": "2021-03-08T09:34:02.567512Z",
     "start_time": "2021-03-08T09:34:02.550162Z"
    }
   },
   "source": [
    "## Count Words"
   ]
  },
  {
   "cell_type": "code",
   "execution_count": 14,
   "metadata": {
    "ExecuteTime": {
     "end_time": "2022-10-22T13:23:16.872083Z",
     "start_time": "2022-10-22T13:23:16.860445Z"
    },
    "code_folding": []
   },
   "outputs": [
    {
     "name": "stdout",
     "output_type": "stream",
     "text": [
      "0. how – 3\n",
      "1. many – 3\n",
      "2. roads – 1\n",
      "3. must – 3\n",
      "4. a – 3\n",
      "5. man – 2\n",
      "6. walk – 1\n",
      "7. down – 1\n",
      "8. before – 3\n",
      "9. you – 1\n",
      "10. call – 1\n",
      "11. him – 1\n",
      "12. yes – 2\n",
      "13. and – 2\n",
      "14. seas – 1\n",
      "15. white – 1\n",
      "16. dove – 1\n",
      "17. sail – 1\n",
      "18. she – 1\n",
      "19. sleeps – 1\n",
      "20. in – 3\n",
      "21. the – 6\n",
      "22. sand – 1\n",
      "23. times – 1\n",
      "24. cannonballs – 1\n",
      "25. fly – 1\n",
      "26. theyre – 1\n",
      "27. forever – 1\n",
      "28. banned – 1\n",
      "29. answer – 2\n",
      "30. my – 1\n",
      "31. friend – 1\n",
      "32. is – 2\n",
      "33. blowing – 2\n",
      "34. wind – 2\n"
     ]
    }
   ],
   "source": [
    "from collections import Counter\n",
    "counts = Counter(words)\n",
    "# print(counts)\n",
    "v = list()\n",
    "for i,w in enumerate(counts):\n",
    "    print(f\"{i}. {w} – {counts[w]}\")   \n",
    "    v.append(counts[w])"
   ]
  },
  {
   "cell_type": "markdown",
   "metadata": {},
   "source": [
    "### display document vector"
   ]
  },
  {
   "cell_type": "code",
   "execution_count": 15,
   "metadata": {
    "ExecuteTime": {
     "end_time": "2022-10-22T13:23:17.121239Z",
     "start_time": "2022-10-22T13:23:16.877495Z"
    }
   },
   "outputs": [
    {
     "name": "stdout",
     "output_type": "stream",
     "text": [
      "[3 3 1 3 3 2 1 1 3 1 1 1 2 2 1 1 1 1 1 1 3 6 1 1 1 1 1 1 1 2 1 1 2 2 2]\n"
     ]
    }
   ],
   "source": [
    "import numpy as np\n",
    "v = np.array(v)\n",
    "print(v)"
   ]
  }
 ],
 "metadata": {
  "kernelspec": {
   "display_name": "Python 3 (ipykernel)",
   "language": "python",
   "name": "python3"
  },
  "language_info": {
   "codemirror_mode": {
    "name": "ipython",
    "version": 3
   },
   "file_extension": ".py",
   "mimetype": "text/x-python",
   "name": "python",
   "nbconvert_exporter": "python",
   "pygments_lexer": "ipython3",
   "version": "3.8.8"
  },
  "toc": {
   "base_numbering": 1,
   "nav_menu": {},
   "number_sections": true,
   "sideBar": true,
   "skip_h1_title": true,
   "title_cell": "Table of Contents",
   "title_sidebar": "Contents",
   "toc_cell": false,
   "toc_position": {
    "height": "calc(100% - 180px)",
    "left": "10px",
    "top": "150px",
    "width": "165px"
   },
   "toc_section_display": true,
   "toc_window_display": true
  },
  "varInspector": {
   "cols": {
    "lenName": 16,
    "lenType": 16,
    "lenVar": 40
   },
   "kernels_config": {
    "python": {
     "delete_cmd_postfix": "",
     "delete_cmd_prefix": "del ",
     "library": "var_list.py",
     "varRefreshCmd": "print(var_dic_list())"
    },
    "r": {
     "delete_cmd_postfix": ") ",
     "delete_cmd_prefix": "rm(",
     "library": "var_list.r",
     "varRefreshCmd": "cat(var_dic_list()) "
    }
   },
   "types_to_exclude": [
    "module",
    "function",
    "builtin_function_or_method",
    "instance",
    "_Feature"
   ],
   "window_display": false
  }
 },
 "nbformat": 4,
 "nbformat_minor": 4
}
